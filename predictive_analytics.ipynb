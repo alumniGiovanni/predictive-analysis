{
 "cells": [
  {
   "cell_type": "code",
   "execution_count": 57,
   "id": "afefd95b",
   "metadata": {},
   "outputs": [
    {
     "name": "stdout",
     "output_type": "stream",
     "text": [
      "    age     sex     bmi  children smoker     region      charges\n",
      "0    19  female  27.900         0    yes  southwest  16884.92400\n",
      "1    18    male  33.770         1     no  southeast   1725.55230\n",
      "2    28    male  33.000         3     no  southeast   4449.46200\n",
      "3    33    male  22.705         0     no  northwest  21984.47061\n",
      "4    32    male  28.880         0     no  northwest   3866.85520\n",
      "5    31  female  25.740         0     no  southeast   3756.62160\n",
      "6    46  female  33.440         1     no  southeast   8240.58960\n",
      "7    37  female  27.740         3     no  northwest   7281.50560\n",
      "8    37    male  29.830         2     no  northeast   6406.41070\n",
      "9    60  female  25.840         0     no  northwest  28923.13692\n",
      "10   25    male  26.220         0     no  northeast   2721.32080\n",
      "11   62  female  26.290         0    yes  southeast  27808.72510\n",
      "12   23    male  34.400         0     no  southwest   1826.84300\n",
      "13   56  female  39.820         0     no  southeast  11090.71780\n",
      "14   27    male     NaN         0    yes  southeast  39611.75770\n"
     ]
    }
   ],
   "source": [
    "import pandas as pd\n",
    "import numpy as np\n",
    "\n",
    "from sklearn.model_selection import train_test_split\n",
    "from sklearn.impute import SimpleImputer\n",
    "from sklearn.preprocessing import OneHotEncoder\n",
    "from sklearn.preprocessing import LabelEncoder\n",
    "from sklearn.preprocessing import MinMaxScaler\n",
    "from sklearn.preprocessing import StandardScaler\n",
    "\n",
    "\n",
    "import matplotlib.pyplot as plt\n",
    "\n",
    "\n",
    "ds = pd.read_csv('insurance.csv')\n",
    "\n",
    "print(ds.head(15))"
   ]
  },
  {
   "cell_type": "code",
   "execution_count": 40,
   "id": "6795ec9e",
   "metadata": {},
   "outputs": [
    {
     "name": "stdout",
     "output_type": "stream",
     "text": [
      "bmi    5\n",
      "dtype: int64\n"
     ]
    }
   ],
   "source": [
    "#checking for null numbers\n",
    "count_nan = ds.isnull().sum()\n",
    "print(count_nan[count_nan>0])"
   ]
  },
  {
   "cell_type": "code",
   "execution_count": 41,
   "id": "b9931344",
   "metadata": {},
   "outputs": [],
   "source": [
    "#filling null numeb\n",
    "ds['bmi'].fillna(ds['bmi'].mean(), inplace = True)"
   ]
  },
  {
   "cell_type": "code",
   "execution_count": 42,
   "id": "602ac102",
   "metadata": {},
   "outputs": [
    {
     "name": "stdout",
     "output_type": "stream",
     "text": [
      "Series([], dtype: int64)\n"
     ]
    }
   ],
   "source": [
    "#checking if it has filled\n",
    "count_nan = ds.isnull().sum()\n",
    "print(count_nan[count_nan>0])"
   ]
  },
  {
   "cell_type": "code",
   "execution_count": 47,
   "id": "2885a041",
   "metadata": {},
   "outputs": [],
   "source": [
    "#create array for encoding\n",
    "sex = ds.iloc[:,1:2].values\n",
    "smoker = ds.iloc[:,4:5].values"
   ]
  },
  {
   "cell_type": "code",
   "execution_count": 48,
   "id": "0b724df7",
   "metadata": {},
   "outputs": [
    {
     "name": "stdout",
     "output_type": "stream",
     "text": [
      "results>  {'female': 0, 'male': 1}\n"
     ]
    }
   ],
   "source": [
    "#label encoder for sex\n",
    "le = LabelEncoder()\n",
    "sex[:,0] = le.fit_transform(sex[:,0])\n",
    "sex = pd.DataFrame(sex)\n",
    "sex.columns = ['sex']\n",
    "le_sex_mapping = dict(zip(le.classes_, le.transform(le.classes_)))\n",
    "print(f\"results> \", le_sex_mapping)\n",
    "                      "
   ]
  },
  {
   "cell_type": "code",
   "execution_count": 49,
   "id": "dc128fcf",
   "metadata": {},
   "outputs": [
    {
     "name": "stdout",
     "output_type": "stream",
     "text": [
      "results>  {'no': 0, 'yes': 1}\n"
     ]
    }
   ],
   "source": [
    "#label encoder for smoker\n",
    "le = LabelEncoder()\n",
    "smoker[:,0] = le.fit_transform(smoker[:,0])\n",
    "smoker = pd.DataFrame(smoker)\n",
    "smoker.columns = ['smoker']\n",
    "le_smoker_mapping = dict(zip(le.classes_, le.transform(le.classes_)))\n",
    "print(f\"results> \", le_smoker_mapping)"
   ]
  },
  {
   "cell_type": "code",
   "execution_count": 52,
   "id": "ffd20f85",
   "metadata": {},
   "outputs": [
    {
     "name": "stdout",
     "output_type": "stream",
     "text": [
      "   northeast  northwest  southeast  southwest\n",
      "0        0.0        0.0        0.0        1.0\n",
      "1        0.0        0.0        1.0        0.0\n",
      "2        0.0        0.0        1.0        0.0\n",
      "3        0.0        1.0        0.0        0.0\n",
      "4        0.0        1.0        0.0        0.0\n",
      "5        0.0        0.0        1.0        0.0\n",
      "6        0.0        0.0        1.0        0.0\n",
      "7        0.0        1.0        0.0        0.0\n",
      "8        1.0        0.0        0.0        0.0\n",
      "9        0.0        1.0        0.0        0.0\n"
     ]
    }
   ],
   "source": [
    "#label encoder for region\n",
    "region = ds.iloc[:,5:6].values\n",
    "ohe = OneHotEncoder()\n",
    "region = ohe.fit_transform(region).toarray()\n",
    "region = pd.DataFrame(region)\n",
    "region.columns = ['northeast', 'northwest', 'southeast', 'southwest']\n",
    "print(region[:10])"
   ]
  },
  {
   "cell_type": "code",
   "execution_count": 55,
   "id": "e67c9b44",
   "metadata": {},
   "outputs": [],
   "source": [
    "#splitting data for test purposes\n",
    "X_num = ds[['age', 'bmi', 'children']]\n",
    "X_final = pd.concat([X_num, sex, smoker, region], axis = 1)\n",
    "y_final = ds[['charges']].copy()\n",
    "X_train, X_test, y_train, y_test = train_test_split(X_final, y_final, test_size = 0.33, random_state = 0)"
   ]
  },
  {
   "cell_type": "code",
   "execution_count": 58,
   "id": "7ef914b5",
   "metadata": {},
   "outputs": [
    {
     "name": "stderr",
     "output_type": "stream",
     "text": [
      "C:\\Users\\giova\\AppData\\Local\\Temp/ipykernel_279852/1589513839.py:3: DeprecationWarning: `np.float` is a deprecated alias for the builtin `float`. To silence this warning, use `float` by itself. Doing this will not modify any behavior and is safe. If you specifically wanted the numpy scalar type, use `np.float64` here.\n",
      "Deprecated in NumPy 1.20; for more details and guidance: https://numpy.org/devdocs/release/1.20.0-notes.html#deprecations\n",
      "  X_train = n_scaler.fit_transform(X_train.astype(np.float))\n",
      "C:\\Users\\giova\\AppData\\Local\\Temp/ipykernel_279852/1589513839.py:4: DeprecationWarning: `np.float` is a deprecated alias for the builtin `float`. To silence this warning, use `float` by itself. Doing this will not modify any behavior and is safe. If you specifically wanted the numpy scalar type, use `np.float64` here.\n",
      "Deprecated in NumPy 1.20; for more details and guidance: https://numpy.org/devdocs/release/1.20.0-notes.html#deprecations\n",
      "  X_test = n_scaler.transform(X_train.astype(np.float))\n",
      "D:\\Anaconda\\Anaconda\\lib\\site-packages\\sklearn\\base.py:450: UserWarning: X does not have valid feature names, but MinMaxScaler was fitted with feature names\n",
      "  warnings.warn(\n"
     ]
    }
   ],
   "source": [
    "#normalized scaler\n",
    "n_scaler = MinMaxScaler()\n",
    "X_train = n_scaler.fit_transform(X_train.astype(np.float))\n",
    "X_test = n_scaler.transform(X_train.astype(np.float))"
   ]
  },
  {
   "cell_type": "code",
   "execution_count": null,
   "id": "18cacf49",
   "metadata": {},
   "outputs": [],
   "source": []
  }
 ],
 "metadata": {
  "kernelspec": {
   "display_name": "Python 3 (ipykernel)",
   "language": "python",
   "name": "python3"
  },
  "language_info": {
   "codemirror_mode": {
    "name": "ipython",
    "version": 3
   },
   "file_extension": ".py",
   "mimetype": "text/x-python",
   "name": "python",
   "nbconvert_exporter": "python",
   "pygments_lexer": "ipython3",
   "version": "3.9.7"
  }
 },
 "nbformat": 4,
 "nbformat_minor": 5
}
